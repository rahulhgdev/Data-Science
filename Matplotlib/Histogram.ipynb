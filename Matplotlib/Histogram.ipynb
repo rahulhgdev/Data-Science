{
 "cells": [
  {
   "cell_type": "code",
   "execution_count": 4,
   "id": "right-gravity",
   "metadata": {},
   "outputs": [],
   "source": [
    "import matplotlib.pyplot as plt\n",
    "%matplotlib inline"
   ]
  },
  {
   "cell_type": "code",
   "execution_count": 8,
   "id": "surprising-entity",
   "metadata": {},
   "outputs": [],
   "source": [
    "blood_pressure = [80,95,100,125,127,130,138,145,150,180,186]    # for Systolic mm HG"
   ]
  },
  {
   "cell_type": "code",
   "execution_count": 12,
   "id": "following-invention",
   "metadata": {},
   "outputs": [
    {
     "data": {
      "text/plain": [
       "(array([1., 2., 0., 0., 3., 1., 2., 0., 0., 2.]),\n",
       " array([ 80. ,  90.6, 101.2, 111.8, 122.4, 133. , 143.6, 154.2, 164.8,\n",
       "        175.4, 186. ]),\n",
       " <BarContainer object of 10 artists>)"
      ]
     },
     "execution_count": 12,
     "metadata": {},
     "output_type": "execute_result"
    },
    {
     "data": {
      "image/png": "[encoded data removed]",
      "text/plain": [
       "<Figure size 432x288 with 1 Axes>"
      ]
     },
     "metadata": {
      "needs_background": "light"
     },
     "output_type": "display_data"
    }
   ],
   "source": [
    "plt.hist(blood_pressure)"
   ]
  },
  {
   "cell_type": "markdown",
   "id": "confidential-teacher",
   "metadata": {},
   "source": [
    "## Parameters in hist()"
   ]
  },
  {
   "cell_type": "code",
   "execution_count": 38,
   "id": "responsible-magazine",
   "metadata": {},
   "outputs": [
    {
     "data": {
      "text/plain": [
       "(array([3., 6., 2.]),\n",
       " array([ 80.        , 115.33333333, 150.66666667, 186.        ]),\n",
       " <BarContainer object of 3 artists>)"
      ]
     },
     "execution_count": 38,
     "metadata": {},
     "output_type": "execute_result"
    },
    {
     "data": {
      "image/png": "[encoded data removed]",
      "text/plain": [
       "<Figure size 432x288 with 1 Axes>"
      ]
     },
     "metadata": {
      "needs_background": "light"
     },
     "output_type": "display_data"
    }
   ],
   "source": [
    "plt.hist(blood_pressure, bins=3, rwidth=0.95,color='c',align='mid', \n",
    "         orientation='vertical')   # or bins=[80,100,125,150], rwdith means relative width"
   ]
  },
  {
   "cell_type": "markdown",
   "id": "improved-checklist",
   "metadata": {},
   "source": [
    "### multiple hist"
   ]
  },
  {
   "cell_type": "code",
   "execution_count": 28,
   "id": "japanese-world",
   "metadata": {},
   "outputs": [
    {
     "data": {
      "text/plain": [
       "<matplotlib.legend.Legend at 0x2066ce62520>"
      ]
     },
     "execution_count": 28,
     "metadata": {},
     "output_type": "execute_result"
    },
    {
     "data": {
      "image/png": "[encoded data removed]",
      "text/plain": [
       "<Figure size 432x288 with 1 Axes>"
      ]
     },
     "metadata": {
      "needs_background": "light"
     },
     "output_type": "display_data"
    }
   ],
   "source": [
    "blood_pressure_sys = [80,95,100,125,127,130,138,145,150,180,186]\n",
    "blood_pressure_dis = [40,48,53,62,71,80,82,88,95,135,180] \n",
    "\n",
    "plt.xlabel('Blood Pressure Range')\n",
    "plt.ylabel('Total No. of patients')\n",
    "plt.title('Blood Pressure Level')\n",
    "\n",
    "plt.hist([blood_pressure_sys, blood_pressure_dis], bins=[60,85,120,180], rwidth=0.95, color=['green','red'],\n",
    "        label=['Systolic', 'Diastolic'])\n",
    "plt.legend(loc=2)"
   ]
  },
  {
   "cell_type": "code",
   "execution_count": null,
   "id": "desirable-holly",
   "metadata": {},
   "outputs": [],
   "source": []
  }
 ],
 "metadata": {
  "kernelspec": {
   "display_name": "Python 3",
   "language": "python",
   "name": "python3"
  },
  "language_info": {
   "codemirror_mode": {
    "name": "ipython",
    "version": 3
   },
   "file_extension": ".py",
   "mimetype": "text/x-python",
   "name": "python",
   "nbconvert_exporter": "python",
   "pygments_lexer": "ipython3",
   "version": "3.9.1"
  }
 },
 "nbformat": 4,
 "nbformat_minor": 5
}
